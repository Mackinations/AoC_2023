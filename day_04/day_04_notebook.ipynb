{
 "cells": [
  {
   "cell_type": "code",
   "execution_count": 1,
   "metadata": {},
   "outputs": [],
   "source": [
    "#part 1\n",
    "sum_total = 0\n",
    "with open('day_04_input.txt') as f:\n",
    "    for line in f:\n",
    "        data = line.split(\":\")[1].split('|')\n",
    "        \n",
    "        data = [s.strip().split() for s in data]\n",
    "        data = [[int(i) for i in s] for s in data]\n",
    "        total_match = len([match for match in data[0] if match in data[1]])\n",
    "        if total_match > 0:\n",
    "            sum_total += 2**(total_match-1)\n",
    "        "
   ]
  },
  {
   "cell_type": "code",
   "execution_count": 4,
   "metadata": {},
   "outputs": [
    {
     "name": "stdout",
     "output_type": "stream",
     "text": [
      "5747443\n"
     ]
    }
   ],
   "source": [
    "\n",
    "#part 2\n",
    "import re\n",
    "sum_total = 0\n",
    "winner_list = {}\n",
    "with open('day_04_input.txt') as f:\n",
    "    for line in f:\n",
    "        data = line.split(\":\")[1].split('|')\n",
    "        line_num = re.search(r'\\d+',line)\n",
    "        line_num = int(line[line_num.start():line_num.end()])\n",
    "        data = [s.strip().split() for s in data]\n",
    "        data = [[int(i) for i in s] for s in data]\n",
    "        total_match = len([match for match in data[0] if match in data[1]])\n",
    "        winner_list[line_num] = total_match\n",
    "        \n",
    "games_played = {}\n",
    "#single iteration for bottom up, compare to memoized\n",
    "for game_num in reversed(list(winner_list.keys())):\n",
    "    if winner_list[game_num] == 0:\n",
    "        games_played[game_num] = 1\n",
    "    else:\n",
    "        games_played[game_num] = sum([games_played[game_num + i] for i in range(1, winner_list[game_num]+1)]) + 1\n",
    "print(sum(games_played.values()))\n",
    "        "
   ]
  }
 ],
 "metadata": {
  "kernelspec": {
   "display_name": "class_notebook",
   "language": "python",
   "name": "python3"
  },
  "language_info": {
   "codemirror_mode": {
    "name": "ipython",
    "version": 3
   },
   "file_extension": ".py",
   "mimetype": "text/x-python",
   "name": "python",
   "nbconvert_exporter": "python",
   "pygments_lexer": "ipython3",
   "version": "3.10.12"
  }
 },
 "nbformat": 4,
 "nbformat_minor": 2
}
