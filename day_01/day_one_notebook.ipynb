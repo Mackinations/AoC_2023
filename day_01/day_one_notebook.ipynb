{
 "cells": [
  {
   "cell_type": "code",
   "execution_count": 31,
   "metadata": {},
   "outputs": [],
   "source": [
    "import re\n",
    "import numpy as np"
   ]
  },
  {
   "cell_type": "code",
   "execution_count": 15,
   "metadata": {},
   "outputs": [
    {
     "data": {
      "text/plain": [
       "56049"
      ]
     },
     "execution_count": 15,
     "metadata": {},
     "output_type": "execute_result"
    }
   ],
   "source": [
    "#Part 1\n",
    "#Find first and last digits, multiply first by 10, sum all lines\n",
    "with open(\"input.txt\") as f:\n",
    "    line_sums = [10* int(re.search(r'\\d', line).group()) + int(re.search(r'\\d', line[::-1]).group()) for line in f]\n",
    "sum(line_sums)\n",
    "        "
   ]
  },
  {
   "cell_type": "code",
   "execution_count": 36,
   "metadata": {},
   "outputs": [],
   "source": [
    "mapping = {'one':1, 'two':2, 'three':3, 'four':4, 'five':5, 'six':6, 'seven':7, 'eight':8, 'nine':9, '1':1, '2':2, '3':3, '4':4, '5':5, '6':6, '7':7, '8':8, '9':9}\n"
   ]
  },
  {
   "cell_type": "code",
   "execution_count": 53,
   "metadata": {},
   "outputs": [],
   "source": [
    "test = 'two1ninetwo'\n",
    "\n",
    "first_hits = [[mapping[x], test.find(x)] for x in mapping.keys() if test.find(x) != -1]\n",
    "last_hits = [[mapping[x], test.rfind(x)] for x in mapping.keys() if test.rfind(x) != -1]\n",
    "\n"
   ]
  },
  {
   "cell_type": "code",
   "execution_count": 54,
   "metadata": {},
   "outputs": [],
   "source": [
    "first_hits = np.asarray(first_hits)\n",
    "last_hits = np.asarray(last_hits)"
   ]
  },
  {
   "cell_type": "code",
   "execution_count": 55,
   "metadata": {},
   "outputs": [
    {
     "data": {
      "text/plain": [
       "array([[2, 0],\n",
       "       [9, 4],\n",
       "       [1, 3]])"
      ]
     },
     "execution_count": 55,
     "metadata": {},
     "output_type": "execute_result"
    }
   ],
   "source": [
    "first_hits"
   ]
  },
  {
   "cell_type": "code",
   "execution_count": 66,
   "metadata": {},
   "outputs": [
    {
     "data": {
      "text/plain": [
       "[[2, 12], [7, 6], [8, 1], [4, 11], [5, 15]]"
      ]
     },
     "execution_count": 66,
     "metadata": {},
     "output_type": "execute_result"
    }
   ],
   "source": [
    "last_hits"
   ]
  },
  {
   "cell_type": "code",
   "execution_count": 65,
   "metadata": {},
   "outputs": [
    {
     "ename": "TypeError",
     "evalue": "list indices must be integers or slices, not tuple",
     "output_type": "error",
     "traceback": [
      "\u001b[1;31m---------------------------------------------------------------------------\u001b[0m",
      "\u001b[1;31mTypeError\u001b[0m                                 Traceback (most recent call last)",
      "\u001b[1;32mc:\\Users\\natem\\Documents\\home\\Git\\AoC_2023\\day_1\\day_one_notebook.ipynb Cell 8\u001b[0m line \u001b[0;36m1\n\u001b[1;32m----> <a href='vscode-notebook-cell:/c%3A/Users/natem/Documents/home/Git/AoC_2023/day_1/day_one_notebook.ipynb#X11sZmlsZQ%3D%3D?line=0'>1</a>\u001b[0m last_hits[np\u001b[39m.\u001b[39margmax(last_hits[:,\u001b[39m1\u001b[39;49m])][\u001b[39m0\u001b[39m]\n",
      "\u001b[1;31mTypeError\u001b[0m: list indices must be integers or slices, not tuple"
     ]
    }
   ],
   "source": [
    "last_hits[np.argmax(last_hits[:,1])][0]"
   ]
  },
  {
   "cell_type": "code",
   "execution_count": 61,
   "metadata": {},
   "outputs": [
    {
     "data": {
      "text/plain": [
       "2"
      ]
     },
     "execution_count": 61,
     "metadata": {},
     "output_type": "execute_result"
    }
   ],
   "source": [
    "first_hits[np.argmin(first_hits[:,1])][0]"
   ]
  },
  {
   "cell_type": "code",
   "execution_count": 67,
   "metadata": {},
   "outputs": [
    {
     "data": {
      "text/plain": [
       "54530"
      ]
     },
     "execution_count": 67,
     "metadata": {},
     "output_type": "execute_result"
    }
   ],
   "source": [
    "with open(\"input.txt\") as f:\n",
    "    cummulative_sum = 0\n",
    "    for line in f:\n",
    "\n",
    "        first_hits = [[mapping[x], line.find(x)] for x in mapping.keys() if line.find(x) != -1]\n",
    "        last_hits = [[mapping[x], line.rfind(x)] for x in mapping.keys() if line.rfind(x) != -1]\n",
    "        first_hits = np.asarray(first_hits)\n",
    "        last_hits = np.asarray(last_hits)\n",
    "        cummulative_sum += 10* first_hits[np.argmin(first_hits[:,1])][0] + last_hits[np.argmax(last_hits[:,1])][0]\n",
    "cummulative_sum"
   ]
  },
  {
   "cell_type": "code",
   "execution_count": 35,
   "metadata": {},
   "outputs": [
    {
     "data": {
      "text/plain": [
       "1"
      ]
     },
     "execution_count": 35,
     "metadata": {},
     "output_type": "execute_result"
    }
   ],
   "source": [
    "'testes'.index('es')"
   ]
  }
 ],
 "metadata": {
  "kernelspec": {
   "display_name": "class_notebook",
   "language": "python",
   "name": "python3"
  },
  "language_info": {
   "codemirror_mode": {
    "name": "ipython",
    "version": 3
   },
   "file_extension": ".py",
   "mimetype": "text/x-python",
   "name": "python",
   "nbconvert_exporter": "python",
   "pygments_lexer": "ipython3",
   "version": "3.10.12"
  }
 },
 "nbformat": 4,
 "nbformat_minor": 2
}
