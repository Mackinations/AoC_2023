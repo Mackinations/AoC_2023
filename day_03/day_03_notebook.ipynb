{
 "cells": [
  {
   "cell_type": "code",
   "execution_count": 1,
   "metadata": {},
   "outputs": [
    {
     "name": "stdout",
     "output_type": "stream",
     "text": [
      "Positions with symbols adjacent to numbers: [(0, 1), (0, 3), (1, 1), (1, 3), (2, 0), (2, 2), (3, 1), (3, 3)]\n"
     ]
    }
   ],
   "source": [
    "def find_adjacent_numbers(matrix):\n",
    "    rows, cols = len(matrix), len(matrix[0])\n",
    "\n",
    "    # Function to check if the given coordinates are within the bounds of the matrix\n",
    "    def is_valid(x, y):\n",
    "        return 0 <= x < rows and 0 <= y < cols\n",
    "\n",
    "    # Function to check if there is a number adjacent to a symbol at position (x, y)\n",
    "    def has_adjacent_number(x, y):\n",
    "        for i in range(x - 1, x + 2):\n",
    "            for j in range(y - 1, y + 2):\n",
    "                if is_valid(i, j) and matrix[i][j] != matrix[x][y] and isinstance(matrix[i][j], (int, float)):\n",
    "                    return True\n",
    "        return False\n",
    "\n",
    "    # Find positions with symbols adjacent to numbers\n",
    "    result = []\n",
    "    for i in range(rows):\n",
    "        for j in range(cols):\n",
    "            if isinstance(matrix[i][j], str) and has_adjacent_number(i, j):\n",
    "                result.append((i, j))\n",
    "\n",
    "    return result\n",
    "\n",
    "# Example usage:\n",
    "matrix = [\n",
    "    [1, 'A', 3, 'B'],\n",
    "    [4, 'C', 6, 'D'],\n",
    "    ['E', 8, 'F', 10],\n",
    "    [11, 'G', 13, 'H']\n",
    "]\n",
    "\n",
    "adjacent_positions = find_adjacent_numbers(matrix)\n",
    "print(\"Positions with symbols adjacent to numbers:\", adjacent_positions)"
   ]
  },
  {
   "cell_type": "code",
   "execution_count": 13,
   "metadata": {},
   "outputs": [],
   "source": [
    "store_ary = []\n",
    "\n",
    "with open(\"day_three_input.txt\") as f:\n",
    "    for line in f:\n",
    "        test = line.split(',')\n",
    "        \n",
    "        store_ary.append(line[:-1])"
   ]
  },
  {
   "cell_type": "code",
   "execution_count": 14,
   "metadata": {},
   "outputs": [
    {
     "data": {
      "text/plain": [
       "['467..114..',\n",
       " '...*......',\n",
       " '..35..633.',\n",
       " '......#...',\n",
       " '617*......',\n",
       " '.....+.58.',\n",
       " '..592.....',\n",
       " '......755.',\n",
       " '...$.*....',\n",
       " '.664.598.']"
      ]
     },
     "execution_count": 14,
     "metadata": {},
     "output_type": "execute_result"
    }
   ],
   "source": [
    "store_ary"
   ]
  },
  {
   "cell_type": "code",
   "execution_count": 19,
   "metadata": {},
   "outputs": [
    {
     "name": "stdout",
     "output_type": "stream",
     "text": [
      "Part 1 Sum 539713\n",
      "Part 2 Sum 84159075\n"
     ]
    }
   ],
   "source": [
    "#Example stolen from reddit\n",
    "import re\n",
    "\n",
    "INPUT = \"./day_three_input.txt\"\n",
    "sum1 = 0\n",
    "sum2 = 0\n",
    "### SOLUTION -- START\n",
    "\n",
    "def checkSymbol(s):\n",
    "    return re.search(r\"[^\\d\\.]\", s)\n",
    "\n",
    "\n",
    "def createLoc(x, y):\n",
    "    return f\"x:{x},y:{y}\"\n",
    "\n",
    "\n",
    "def checkIfGear(s, x, y):\n",
    "    return (\n",
    "        f\"{createLoc(x, y)}\"\n",
    "        if s == \"*\"\n",
    "        else \"\"\n",
    "    )\n",
    "\n",
    "with open(INPUT, \"r\") as f:\n",
    "    lines = f.read().splitlines()\n",
    "    allNumbers = []\n",
    "    allGears = {}\n",
    "    for lineIdx, line in enumerate(lines):\n",
    "        numbers = [[int(m.group(0)), m.span()] for m in re.finditer(r\"(\\d+)\", line)]\n",
    "        for num in numbers:\n",
    "            isPart = False\n",
    "            [n, (mStart, mEnd)] = num\n",
    "            startIdx = max(0, mStart - 1)\n",
    "            endIdx = min(len(lines) - 1, mEnd)\n",
    "            gearCoor = \"\"\n",
    "\n",
    "            # CHECK ADJACENT LEFT\n",
    "            symbol = checkSymbol(line[startIdx])\n",
    "            if symbol:\n",
    "                isPart = True\n",
    "                gearCoor = checkIfGear(symbol.group(0), startIdx, lineIdx)\n",
    "\n",
    "            # CHECK ADJACENT RIGHT\n",
    "            symbol = checkSymbol(line[endIdx])\n",
    "            if symbol:\n",
    "                isPart = True\n",
    "                gearCoor = checkIfGear(symbol.group(0), endIdx, lineIdx)\n",
    "\n",
    "            # CHECK ADJACENT TOP ROW\n",
    "            if lineIdx != 0:\n",
    "                for sIdx in range(startIdx, endIdx + 1):\n",
    "                    symbol = checkSymbol(lines[lineIdx - 1][sIdx])\n",
    "                    if symbol:\n",
    "                        isPart = True\n",
    "                        gearCoor = checkIfGear(symbol.group(0), sIdx, lineIdx - 1)\n",
    "                        break\n",
    "\n",
    "            # CHECK ADJACENT BOTTOM ROW\n",
    "            if lineIdx < len(lines) - 1:\n",
    "                for sIdx in range(startIdx, endIdx + 1):\n",
    "                    symbol = checkSymbol(lines[lineIdx + 1][sIdx])\n",
    "                    if symbol:\n",
    "                        if n == 114:\n",
    "                            print(sIdx, startIdx, symbol.group(0))\n",
    "                        isPart = True\n",
    "                        gearCoor = checkIfGear(symbol.group(0), sIdx, lineIdx + 1)\n",
    "                        break\n",
    "\n",
    "            if isPart:\n",
    "                sum1 += n\n",
    "                if gearCoor:\n",
    "                    numList = allGears.get(gearCoor)\n",
    "                    numList = numList + [n] if isinstance(numList, list) else [n]\n",
    "                    allGears[gearCoor] = numList\n",
    "                    if len(numList) == 2:\n",
    "                        [p0, p1] = numList\n",
    "                        gearRatio = p0 * p1\n",
    "                        sum2 += gearRatio\n",
    "\n",
    "\n",
    "print(\"Part 1 Sum\", sum1)\n",
    "print(\"Part 2 Sum\", sum2)\n",
    "\n",
    "### SOLUTION -- END"
   ]
  }
 ],
 "metadata": {
  "kernelspec": {
   "display_name": "class_notebook",
   "language": "python",
   "name": "python3"
  },
  "language_info": {
   "codemirror_mode": {
    "name": "ipython",
    "version": 3
   },
   "file_extension": ".py",
   "mimetype": "text/x-python",
   "name": "python",
   "nbconvert_exporter": "python",
   "pygments_lexer": "ipython3",
   "version": "3.10.12"
  }
 },
 "nbformat": 4,
 "nbformat_minor": 2
}
