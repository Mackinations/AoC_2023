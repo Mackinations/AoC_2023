{
 "cells": [
  {
   "cell_type": "code",
   "execution_count": 31,
   "metadata": {},
   "outputs": [
    {
     "data": {
      "text/plain": [
       "2348"
      ]
     },
     "execution_count": 31,
     "metadata": {},
     "output_type": "execute_result"
    }
   ],
   "source": [
    "import re\n",
    "import numpy as np\n",
    "\n",
    "#part 1\n",
    "red_limit = 12\n",
    "green_limit = 13\n",
    "blue_limit = 14\n",
    "\n",
    "id_sum = 0\n",
    "\n",
    "with open(\"day_two_inputs.txt\") as f:\n",
    "    for line in f:\n",
    "    #test =[m for m in re.finditer(r'\\d+', line)]\n",
    "        greens = re.findall( r\"(\\d+)\\sgreen\", line)\n",
    "        blues = re.findall( r\"(\\d+)\\sblue\", line)\n",
    "        reds = re.findall( r\"(\\d+)\\sred\", line)\n",
    "        g_max = max([int(s) for s in greens])\n",
    "        b_max = max([int(s) for s in blues])\n",
    "        r_max = max([int(s) for s in reds])\n",
    "        if r_max <= red_limit and b_max <= blue_limit and g_max <= green_limit:\n",
    "            id_sum += int(re.match(r\"Game (\\d+):\", line).group(1))\n",
    "\n",
    "    \n",
    "    \n",
    "    \n",
    "    \n",
    "id_sum\n",
    " "
   ]
  },
  {
   "cell_type": "code",
   "execution_count": 33,
   "metadata": {},
   "outputs": [
    {
     "data": {
      "text/plain": [
       "76008"
      ]
     },
     "execution_count": 33,
     "metadata": {},
     "output_type": "execute_result"
    }
   ],
   "source": [
    "import re\n",
    "import numpy as np\n",
    "\n",
    "#part 1\n",
    "red_limit = 12\n",
    "green_limit = 13\n",
    "blue_limit = 14\n",
    "\n",
    "power_sum = 0\n",
    "\n",
    "with open(\"day_two_inputs.txt\") as f:\n",
    "    for line in f:\n",
    "    #test =[m for m in re.finditer(r'\\d+', line)]\n",
    "        greens = re.findall( r\"(\\d+)\\sgreen\", line)\n",
    "        blues = re.findall( r\"(\\d+)\\sblue\", line)\n",
    "        reds = re.findall( r\"(\\d+)\\sred\", line)\n",
    "        g_max = max([int(s) for s in greens])\n",
    "        b_max = max([int(s) for s in blues])\n",
    "        r_max = max([int(s) for s in reds])\n",
    "        power_sum += g_max * r_max * b_max\n",
    "\n",
    "    \n",
    "    \n",
    "    \n",
    "    \n",
    "power_sum\n",
    " "
   ]
  }
 ],
 "metadata": {
  "kernelspec": {
   "display_name": "class_notebook",
   "language": "python",
   "name": "python3"
  },
  "language_info": {
   "codemirror_mode": {
    "name": "ipython",
    "version": 3
   },
   "file_extension": ".py",
   "mimetype": "text/x-python",
   "name": "python",
   "nbconvert_exporter": "python",
   "pygments_lexer": "ipython3",
   "version": "3.10.12"
  }
 },
 "nbformat": 4,
 "nbformat_minor": 2
}
